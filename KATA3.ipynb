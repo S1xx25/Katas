{
 "cells": [
  {
   "cell_type": "code",
   "execution_count": 5,
   "metadata": {},
   "outputs": [
    {
     "name": "stdout",
     "output_type": "stream",
     "text": [
      "¡CUIDADO SE ACERCA UN ASTEROIDE!\n"
     ]
    }
   ],
   "source": [
    "# Añadir el código necesario para crear una variable que guarde la velocidad del asteroide.\n",
    "# Escribe una expresión de prueba para calcular si necesita una advertencia.\n",
    "# Agregue las instrucciones que se ejecutarán si la expresión de prueba es true o false.\n",
    "\n",
    "asteroide = 125\n",
    "if asteroide > 100:\n",
    "    print('¡CUIDADO SE ACERCA UN ASTEROIDE!')\n",
    "else:\n",
    "    print('NO HAY PELIGRO!')"
   ]
  },
  {
   "cell_type": "code",
   "execution_count": 9,
   "metadata": {},
   "outputs": [
    {
     "name": "stdout",
     "output_type": "stream",
     "text": [
      "¡NO hay nada\n"
     ]
    }
   ],
   "source": [
    "# Agrega el código para crear una variable para un asteroide que viaja a 19 km/s\n",
    "# Escribe varias expresiones de prueba para determinar si puedes ver el rayo de luz desde la tierra\n",
    "# Agrega las instrucciones que se ejecutarán si las expresiones de prueba son True o False\n",
    "\n",
    "asteroide = 19\n",
    "if asteroide > 20:\n",
    "    print('Se ve algo!!')\n",
    "else:\n",
    "    print('¡NO hay nada')"
   ]
  },
  {
   "cell_type": "code",
   "execution_count": 13,
   "metadata": {},
   "outputs": [],
   "source": [
    "# Agrega el código para crear nuevas variables para la velocidad y el tamaño del asteroide\n",
    "# Para probar el código, prueba con varias velocidades y tamaños\n",
    "# Escribe varias expresiones de prueba o combinaciones de expresiones de prueba para determinar qué mensaje se debe enviar a Tierra.\n",
    "\n",
    "velocidad = 18\n",
    "tamano = 26\n",
    "if velocidad > 19 and tamano_asteroide > 25:\n",
    "    print('¡Cuidado un asteroide!')\n",
    "elif tamano< 25:\n",
    "    print('No hay Nada')\n"
   ]
  }
 ],
 "metadata": {
  "interpreter": {
   "hash": "eb3ff7cb127a35f6f17492e6d1a8e2f1fe0280665c0210cd87c3e072a67d5ae8"
  },
  "kernelspec": {
   "display_name": "Python 3.10.2 64-bit",
   "name": "python3"
  },
  "language_info": {
   "codemirror_mode": {
    "name": "ipython",
    "version": 3
   },
   "file_extension": ".py",
   "mimetype": "text/x-python",
   "name": "python",
   "nbconvert_exporter": "python",
   "pygments_lexer": "ipython3",
   "version": "3.10.2"
  },
  "orig_nbformat": 4
 },
 "nbformat": 4,
 "nbformat_minor": 2
}
